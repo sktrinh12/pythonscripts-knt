{
 "cells": [
  {
   "cell_type": "code",
   "execution_count": 1,
   "id": "546240b4-be90-48e0-8525-6983a5a97120",
   "metadata": {},
   "outputs": [
    {
     "name": "stdout",
     "output_type": "stream",
     "text": [
      "Collecting rdkit\n",
      "  Downloading rdkit-2023.3.1-cp39-cp39-manylinux_2_17_x86_64.manylinux2014_x86_64.whl (29.7 MB)\n",
      "\u001b[2K     \u001b[90m━━━━━━━━━━━━━━━━━━━━━━━━━━━━━━━━━━━━━━━━\u001b[0m \u001b[32m29.7/29.7 MB\u001b[0m \u001b[31m16.7 MB/s\u001b[0m eta \u001b[36m0:00:00\u001b[0m00:01\u001b[0m00:01\u001b[0m\n",
      "\u001b[?25hRequirement already satisfied: numpy in /opt/conda/lib/python3.9/site-packages (from rdkit) (1.21.5)\n",
      "Requirement already satisfied: Pillow in /opt/conda/lib/python3.9/site-packages (from rdkit) (9.0.1)\n",
      "Installing collected packages: rdkit\n",
      "Successfully installed rdkit-2023.3.1\n"
     ]
    }
   ],
   "source": [
    "!pip3 install rdkit"
   ]
  },
  {
   "cell_type": "code",
   "execution_count": 17,
   "id": "26aba236-0cfb-47e4-af97-eaf8836759d6",
   "metadata": {},
   "outputs": [
    {
     "name": "stdout",
     "output_type": "stream",
     "text": [
      "Collecting wurlitzer\n",
      "  Downloading wurlitzer-3.0.3-py3-none-any.whl (7.3 kB)\n",
      "Installing collected packages: wurlitzer\n",
      "Successfully installed wurlitzer-3.0.3\n"
     ]
    }
   ],
   "source": [
    "!pip3 install wurlitzer"
   ]
  },
  {
   "cell_type": "code",
   "execution_count": 18,
   "id": "30527e17-caf7-47cb-b773-51abc105ef7f",
   "metadata": {},
   "outputs": [],
   "source": [
    "from rdkit.Chem import MolFromMolBlock\n",
    "from rdkit.Chem.Draw import rdMolDraw2D\n",
    "import os\n",
    "from wurlitzer import pipes"
   ]
  },
  {
   "cell_type": "code",
   "execution_count": 4,
   "id": "d0eea36b-a019-4f13-a814-cbe2f131b76b",
   "metadata": {},
   "outputs": [],
   "source": [
    "\n",
    "\n",
    "async def chem_draw(\n",
    "    mol_str: str,\n",
    "    size: int,\n",
    "):\n",
    "    try:\n",
    "        svg = \"\"\n",
    "        with pipes() as (out, err):\n",
    "            molecule = MolFromMolBlock(mol_str)\n",
    "        stderr: str = err.read()\n",
    "        print(stderr)\n",
    "        if molecule:\n",
    "            molecule = rdMolDraw2D.PrepareMolForDrawing(molecule)\n",
    "            # start drawing molecule image\n",
    "            drawer = rdMolDraw2D.MolDraw2DSVG(size, size)\n",
    "            drawer.drawOptions().addStereoAnnotation = True\n",
    "            # drawer.drawOptions().addAtomIndices = True\n",
    "            drawer.DrawMolecule(molecule)\n",
    "            drawer.FinishDrawing()\n",
    "            svg = drawer.GetDrawingText()\n",
    "        return svg, stderr\n",
    "    except Exception as ex:\n",
    "        print(ex)"
   ]
  },
  {
   "cell_type": "code",
   "execution_count": 11,
   "id": "aaccaae9-5af1-4b88-9df6-3a8899cfaa01",
   "metadata": {},
   "outputs": [],
   "source": [
    "script_dir = '/home/jovyan/work/Documents/gitrepos/geomean-flagger/backend/app'"
   ]
  },
  {
   "cell_type": "code",
   "execution_count": 23,
   "id": "9cc50481-d81a-4958-8f20-ad01af726bc1",
   "metadata": {},
   "outputs": [],
   "source": [
    "file_path = os.path.join(script_dir, \"input.mol\")"
   ]
  },
  {
   "cell_type": "code",
   "execution_count": 13,
   "id": "b8b6c41e-ff51-47a0-9716-d153e6152594",
   "metadata": {},
   "outputs": [
    {
     "data": {
      "text/plain": [
       "'/home/jovyan/work/Documents/gitrepos/geomean-flagger/backend/app/input.mol'"
      ]
     },
     "execution_count": 13,
     "metadata": {},
     "output_type": "execute_result"
    }
   ],
   "source": [
    "file_path"
   ]
  },
  {
   "cell_type": "code",
   "execution_count": 24,
   "id": "3a12614e-a309-4e62-9ba6-e2ad3c1cdcc7",
   "metadata": {},
   "outputs": [],
   "source": [
    "molecule = open(file_path, \"r\").read()"
   ]
  },
  {
   "cell_type": "code",
   "execution_count": 25,
   "id": "6f6b57e6-c49b-4a74-ab2c-6630e88b113e",
   "metadata": {},
   "outputs": [
    {
     "data": {
      "text/plain": [
       "'atoms 35 bonds 38\\ndotmatics\\nmol io\\n 35 38  0  0  0  0  0  0  0  0999 V2000\\n   -4.2486    4.3862    0.0000 N   0  0  0  0  0  0  0  0  0  0  0  0\\n   -3.4216    4.3862    0.0000 C   0  0  0  0  0  0  0  0  0  0  0  0\\n   -3.0081    5.1024    0.0000 N   0  0  0  0  0  0  0  0  0  0  0  0\\n   -2.1811    5.1024    0.0000 C   0  0  0  0  0  0  0  0  0  0  0  0\\n   -1.7676    4.3862    0.0000 C   0  0  0  0  0  0  0  0  0  0  0  0\\n   -2.1811    3.6700    0.0000 C   0  0  0  0  0  0  0  0  0  0  0  0\\n   -3.0081    3.6700    0.0000 N   0  0  0  0  0  0  0  0  0  0  0  0\\n   -1.7676    2.9538    0.0000 C   0  0  0  0  0  0  0  0  0  0  0  0\\n   -2.1039    2.1983    0.0000 S   0  0  0  0  0  0  0  0  0  0  0  0\\n   -1.4893    1.6449    0.0000 C   0  0  0  0  0  0  0  0  0  0  0  0\\n   -0.7731    2.0584    0.0000 N   0  0  0  0  0  0  0  0  0  0  0  0\\n   -0.9451    2.8674    0.0000 C   0  0  0  0  0  0  0  0  0  0  0  0\\n   -0.3917    3.4819    0.0000 C   0  0  0  0  0  0  0  0  0  0  0  0\\n   -0.6473    4.2685    0.0000 C   0  0  0  0  0  0  0  0  0  0  0  0\\n   -0.0939    4.8831    0.0000 C   0  0  0  0  0  0  0  0  0  0  0  0\\n    0.7150    4.7111    0.0000 C   0  0  0  0  0  0  0  0  0  0  0  0\\n    0.9706    3.9246    0.0000 C   0  0  0  0  0  0  0  0  0  0  0  0\\n    0.4172    3.3100    0.0000 C   0  0  0  0  0  0  0  0  0  0  0  0\\n    0.6728    2.5235    0.0000 F   0  0  0  0  0  0  0  0  0  0  0  0\\n    1.7795    3.7526    0.0000 N   0  0  0  0  0  0  0  0  0  0  0  0\\n    2.3329    4.3672    0.0000 S   0  0  0  0  0  0  0  0  0  0  0  0\\n    2.9475    3.8139    0.0000 O   0  0  0  0  0  0  0  0  0  0  0  0\\n    1.7183    4.9206    0.0000 O   0  0  0  0  0  0  0  0  0  0  0  0\\n    2.8863    4.9818    0.0000 C   0  0  0  0  0  0  0  0  0  0  0  0\\n    2.6307    5.7683    0.0000 C   0  0  0  0  0  0  0  0  0  0  0  0\\n    1.8218    5.9403    0.0000 F   0  0  0  0  0  0  0  0  0  0  0  0\\n    3.1841    6.3829    0.0000 C   0  0  0  0  0  0  0  0  0  0  0  0\\n    3.9930    6.2110    0.0000 C   0  0  0  0  0  0  0  0  0  0  0  0\\n    4.2486    5.4244    0.0000 C   0  0  0  0  0  0  0  0  0  0  0  0\\n    3.6952    4.8099    0.0000 C   0  0  0  0  0  0  0  0  0  0  0  0\\n    3.9507    4.0233    0.0000 F   0  0  0  0  0  0  0  0  0  0  0  0\\n   -1.5758    0.8225    0.0000 C   0  0  0  0  0  0  0  0  0  0  0  0\\n   -0.7533    0.7360    0.0000 C   0  0  0  0  0  0  0  0  0  0  0  0\\n   -1.6622   -0.0000    0.0000 C   0  0  0  0  0  0  0  0  0  0  0  0\\n   -2.3983    0.9089    0.0000 C   0  0  0  0  0  0  0  0  0  0  0  0\\n  1  2  1  0  0  0\\n  2  7  1  0  0  0\\n  2  3  2  0  0  0\\n  3  4  1  0  0  0\\n  4  5  2  0  0  0\\n  5  6  1  0  0  0\\n  6  7  2  0  0  0\\n  6  8  1  0  0  0\\n  8 12  2  0  0  0\\n  8  9  1  0  0  0\\n  9 10  1  0  0  0\\n 10 11  2  0  0  0\\n 11 12  1  0  0  0\\n 12 13  1  0  0  0\\n 13 18  1  0  0  0\\n 13 14  2  0  0  0\\n 14 15  1  0  0  0\\n 15 16  2  0  0  0\\n 16 17  1  0  0  0\\n 17 18  2  0  0  0\\n 18 19  1  0  0  0\\n 17 20  1  0  0  0\\n 20 21  1  0  0  0\\n 21 22  2  0  0  0\\n 21 23  2  0  0  0\\n 21 24  1  0  0  0\\n 24 30  1  0  0  0\\n 24 25  2  0  0  0\\n 25 26  1  0  0  0\\n 25 27  1  0  0  0\\n 27 28  2  0  0  0\\n 28 29  1  0  0  0\\n 29 30  2  0  0  0\\n 30 31  1  0  0  0\\n 10 32  1  0  0  0\\n 32 33  1  0  0  0\\n 32 34  1  0  0  0\\n 32 35  1  0  0  0\\nM  END\\n'"
      ]
     },
     "execution_count": 25,
     "metadata": {},
     "output_type": "execute_result"
    }
   ],
   "source": [
    "molecule"
   ]
  },
  {
   "cell_type": "code",
   "execution_count": 26,
   "id": "b8c88a4b-0370-4c39-ac80-01363698a3d0",
   "metadata": {},
   "outputs": [
    {
     "name": "stdout",
     "output_type": "stream",
     "text": [
      "\n"
     ]
    }
   ],
   "source": [
    "svg, stderr = await chem_draw(mol_str=molecule, size=250)"
   ]
  },
  {
   "cell_type": "code",
   "execution_count": 27,
   "id": "7af1cbee-0fe6-4c3c-a97c-948b6f721104",
   "metadata": {},
   "outputs": [],
   "source": [
    "m = MolFromMolBlock(molecule)"
   ]
  },
  {
   "cell_type": "code",
   "execution_count": 30,
   "id": "d1147851-df8c-4840-aeed-445cef3c3159",
   "metadata": {},
   "outputs": [],
   "source": [
    "size = 250\n",
    "if molecule:\n",
    "    mo = rdMolDraw2D.PrepareMolForDrawing(m)\n",
    "    # start drawing molecule image\n",
    "    drawer = rdMolDraw2D.MolDraw2DSVG(size, size)\n",
    "    drawer.drawOptions().addStereoAnnotation = True\n",
    "    # drawer.drawOptions().addAtomIndices = True\n",
    "    drawer.DrawMolecule(mo)\n",
    "    drawer.FinishDrawing()\n",
    "    svg = drawer.GetDrawingText()"
   ]
  },
  {
   "cell_type": "code",
   "execution_count": 31,
   "id": "f5e1a49f-4ae7-4f7a-84a4-8eaddf63912b",
   "metadata": {},
   "outputs": [
    {
     "data": {
      "text/plain": [
       "\"<?xml version='1.0' encoding='iso-8859-1'?>\\n<svg version='1.1' baseProfile='full'\\n              xmlns='http://www.w3.org/2000/svg'\\n                      xmlns:rdkit='http://www.rdkit.org/xml'\\n                      xmlns:xlink='http://www.w3.org/1999/xlink'\\n                  xml:space='preserve'\\nwidth='250px' height='250px' viewBox='0 0 250 250'>\\n<!-- END OF HEADER -->\\n<rect style='opacity:1.0;fill:#FFFFFF;stroke:none' width='250.0' height='250.0' x='0.0' y='0.0'> </rect>\\n<path class='bond-0 atom-0 atom-1' d='M 36.0,95.9 L 43.7,95.9' style='fill:none;fill-rule:evenodd;stroke:#0000FF;stroke-width:2.0px;stroke-linecap:butt;stroke-linejoin:miter;stroke-opacity:1' />\\n<path class='bond-0 atom-0 atom-1' d='M 43.7,95.9 L 51.5,95.9' style='fill:none;fill-rule:evenodd;stroke:#000000;stroke-width:2.0px;stroke-linecap:butt;stroke-linejoin:miter;stroke-opacity:1' />\\n<path class='bond-1 atom-1 atom-6' d='M 51.5,95.9 L 54.9,101.7' style='fill:none;fill-rule:evenodd;stroke:#000000;stroke-width:2.0px;stroke-linecap:butt;stroke-linejoin:miter;stroke-opacity:1' />\\n<path class='bond-1 atom-1 atom-6' d='M 54.9,101.7 L 58.2,107.5' style='fill:none;fill-rule:evenodd;stroke:#0000FF;stroke-width:2.0px;stroke-linecap:butt;stroke-linejoin:miter;stroke-opacity:1' />\\n<path class='bond-1 atom-1 atom-6' d='M 55.0,95.9 L 57.9,100.9' style='fill:none;fill-rule:evenodd;stroke:#000000;stroke-width:2.0px;stroke-linecap:butt;stroke-linejoin:miter;stroke-opacity:1' />\\n<path class='bond-1 atom-1 atom-6' d='M 57.9,100.9 L 60.9,106.0' style='fill:none;fill-rule:evenodd;stroke:#0000FF;stroke-width:2.0px;stroke-linecap:butt;stroke-linejoin:miter;stroke-opacity:1' />\\n<path class='bond-2 atom-1 atom-2' d='M 51.5,95.9 L 54.9,90.0' style='fill:none;fill-rule:evenodd;stroke:#000000;stroke-width:2.0px;stroke-linecap:butt;stroke-linejoin:miter;stroke-opacity:1' />\\n<path class='bond-2 atom-1 atom-2' d='M 54.9,90.0 L 58.2,84.2' style='fill:none;fill-rule:evenodd;stroke:#0000FF;stroke-width:2.0px;stroke-linecap:butt;stroke-linejoin:miter;stroke-opacity:1' />\\n<path class='bond-3 atom-2 atom-3' d='M 66.2,78.4 L 74.0,78.4' style='fill:none;fill-rule:evenodd;stroke:#0000FF;stroke-width:2.0px;stroke-linecap:butt;stroke-linejoin:miter;stroke-opacity:1' />\\n<path class='bond-3 atom-2 atom-3' d='M 74.0,78.4 L 81.8,78.4' style='fill:none;fill-rule:evenodd;stroke:#000000;stroke-width:2.0px;stroke-linecap:butt;stroke-linejoin:miter;stroke-opacity:1' />\\n<path class='bond-3 atom-2 atom-3' d='M 66.2,81.4 L 73.1,81.4' style='fill:none;fill-rule:evenodd;stroke:#0000FF;stroke-width:2.0px;stroke-linecap:butt;stroke-linejoin:miter;stroke-opacity:1' />\\n<path class='bond-3 atom-2 atom-3' d='M 73.1,81.4 L 80.0,81.4' style='fill:none;fill-rule:evenodd;stroke:#000000;stroke-width:2.0px;stroke-linecap:butt;stroke-linejoin:miter;stroke-opacity:1' />\\n<path class='bond-4 atom-3 atom-4' d='M 81.8,78.4 L 91.9,95.9' style='fill:none;fill-rule:evenodd;stroke:#000000;stroke-width:2.0px;stroke-linecap:butt;stroke-linejoin:miter;stroke-opacity:1' />\\n<path class='bond-5 atom-4 atom-5' d='M 91.9,95.9 L 81.8,113.3' style='fill:none;fill-rule:evenodd;stroke:#000000;stroke-width:2.0px;stroke-linecap:butt;stroke-linejoin:miter;stroke-opacity:1' />\\n<path class='bond-5 atom-4 atom-5' d='M 88.4,95.9 L 80.0,110.3' style='fill:none;fill-rule:evenodd;stroke:#000000;stroke-width:2.0px;stroke-linecap:butt;stroke-linejoin:miter;stroke-opacity:1' />\\n<path class='bond-6 atom-5 atom-6' d='M 81.8,113.3 L 74.0,113.3' style='fill:none;fill-rule:evenodd;stroke:#000000;stroke-width:2.0px;stroke-linecap:butt;stroke-linejoin:miter;stroke-opacity:1' />\\n<path class='bond-6 atom-5 atom-6' d='M 74.0,113.3 L 66.2,113.3' style='fill:none;fill-rule:evenodd;stroke:#0000FF;stroke-width:2.0px;stroke-linecap:butt;stroke-linejoin:miter;stroke-opacity:1' />\\n<path class='bond-7 atom-5 atom-7' d='M 81.8,113.3 L 91.9,130.8' style='fill:none;fill-rule:evenodd;stroke:#000000;stroke-width:2.0px;stroke-linecap:butt;stroke-linejoin:miter;stroke-opacity:1' />\\n<path class='bond-8 atom-7 atom-11' d='M 91.9,130.8 L 111.9,132.9' style='fill:none;fill-rule:evenodd;stroke:#000000;stroke-width:2.0px;stroke-linecap:butt;stroke-linejoin:miter;stroke-opacity:1' />\\n<path class='bond-8 atom-7 atom-11' d='M 93.8,134.0 L 109.4,135.7' style='fill:none;fill-rule:evenodd;stroke:#000000;stroke-width:2.0px;stroke-linecap:butt;stroke-linejoin:miter;stroke-opacity:1' />\\n<path class='bond-9 atom-7 atom-8' d='M 91.9,130.8 L 89.1,137.1' style='fill:none;fill-rule:evenodd;stroke:#000000;stroke-width:2.0px;stroke-linecap:butt;stroke-linejoin:miter;stroke-opacity:1' />\\n<path class='bond-9 atom-7 atom-8' d='M 89.1,137.1 L 86.3,143.4' style='fill:none;fill-rule:evenodd;stroke:#CCCC00;stroke-width:2.0px;stroke-linecap:butt;stroke-linejoin:miter;stroke-opacity:1' />\\n<path class='bond-10 atom-8 atom-9' d='M 87.7,152.8 L 93.2,157.8' style='fill:none;fill-rule:evenodd;stroke:#CCCC00;stroke-width:2.0px;stroke-linecap:butt;stroke-linejoin:miter;stroke-opacity:1' />\\n<path class='bond-10 atom-8 atom-9' d='M 93.2,157.8 L 98.7,162.7' style='fill:none;fill-rule:evenodd;stroke:#000000;stroke-width:2.0px;stroke-linecap:butt;stroke-linejoin:miter;stroke-opacity:1' />\\n<path class='bond-11 atom-9 atom-10' d='M 98.7,162.7 L 105.1,159.0' style='fill:none;fill-rule:evenodd;stroke:#000000;stroke-width:2.0px;stroke-linecap:butt;stroke-linejoin:miter;stroke-opacity:1' />\\n<path class='bond-11 atom-9 atom-10' d='M 105.1,159.0 L 111.5,155.3' style='fill:none;fill-rule:evenodd;stroke:#0000FF;stroke-width:2.0px;stroke-linecap:butt;stroke-linejoin:miter;stroke-opacity:1' />\\n<path class='bond-11 atom-9 atom-10' d='M 99.1,159.0 L 104.5,155.8' style='fill:none;fill-rule:evenodd;stroke:#000000;stroke-width:2.0px;stroke-linecap:butt;stroke-linejoin:miter;stroke-opacity:1' />\\n<path class='bond-11 atom-9 atom-10' d='M 104.5,155.8 L 110.0,152.7' style='fill:none;fill-rule:evenodd;stroke:#0000FF;stroke-width:2.0px;stroke-linecap:butt;stroke-linejoin:miter;stroke-opacity:1' />\\n<path class='bond-12 atom-10 atom-11' d='M 114.9,146.8 L 113.4,139.8' style='fill:none;fill-rule:evenodd;stroke:#0000FF;stroke-width:2.0px;stroke-linecap:butt;stroke-linejoin:miter;stroke-opacity:1' />\\n<path class='bond-12 atom-10 atom-11' d='M 113.4,139.8 L 111.9,132.9' style='fill:none;fill-rule:evenodd;stroke:#000000;stroke-width:2.0px;stroke-linecap:butt;stroke-linejoin:miter;stroke-opacity:1' />\\n<path class='bond-13 atom-11 atom-12' d='M 111.9,132.9 L 125.4,117.9' style='fill:none;fill-rule:evenodd;stroke:#000000;stroke-width:2.0px;stroke-linecap:butt;stroke-linejoin:miter;stroke-opacity:1' />\\n<path class='bond-14 atom-12 atom-17' d='M 125.4,117.9 L 145.2,122.1' style='fill:none;fill-rule:evenodd;stroke:#000000;stroke-width:2.0px;stroke-linecap:butt;stroke-linejoin:miter;stroke-opacity:1' />\\n<path class='bond-15 atom-12 atom-13' d='M 125.4,117.9 L 119.2,98.7' style='fill:none;fill-rule:evenodd;stroke:#000000;stroke-width:2.0px;stroke-linecap:butt;stroke-linejoin:miter;stroke-opacity:1' />\\n<path class='bond-15 atom-12 atom-13' d='M 127.8,115.3 L 122.6,99.5' style='fill:none;fill-rule:evenodd;stroke:#000000;stroke-width:2.0px;stroke-linecap:butt;stroke-linejoin:miter;stroke-opacity:1' />\\n<path class='bond-16 atom-13 atom-14' d='M 119.2,98.7 L 132.7,83.7' style='fill:none;fill-rule:evenodd;stroke:#000000;stroke-width:2.0px;stroke-linecap:butt;stroke-linejoin:miter;stroke-opacity:1' />\\n<path class='bond-17 atom-14 atom-15' d='M 132.7,83.7 L 152.4,87.9' style='fill:none;fill-rule:evenodd;stroke:#000000;stroke-width:2.0px;stroke-linecap:butt;stroke-linejoin:miter;stroke-opacity:1' />\\n<path class='bond-17 atom-14 atom-15' d='M 133.8,87.1 L 150.1,90.5' style='fill:none;fill-rule:evenodd;stroke:#000000;stroke-width:2.0px;stroke-linecap:butt;stroke-linejoin:miter;stroke-opacity:1' />\\n<path class='bond-18 atom-15 atom-16' d='M 152.4,87.9 L 158.7,107.1' style='fill:none;fill-rule:evenodd;stroke:#000000;stroke-width:2.0px;stroke-linecap:butt;stroke-linejoin:miter;stroke-opacity:1' />\\n<path class='bond-19 atom-16 atom-17' d='M 158.7,107.1 L 145.2,122.1' style='fill:none;fill-rule:evenodd;stroke:#000000;stroke-width:2.0px;stroke-linecap:butt;stroke-linejoin:miter;stroke-opacity:1' />\\n<path class='bond-19 atom-16 atom-17' d='M 155.3,106.4 L 144.1,118.8' style='fill:none;fill-rule:evenodd;stroke:#000000;stroke-width:2.0px;stroke-linecap:butt;stroke-linejoin:miter;stroke-opacity:1' />\\n<path class='bond-20 atom-17 atom-18' d='M 145.2,122.1 L 147.3,128.8' style='fill:none;fill-rule:evenodd;stroke:#000000;stroke-width:2.0px;stroke-linecap:butt;stroke-linejoin:miter;stroke-opacity:1' />\\n<path class='bond-20 atom-17 atom-18' d='M 147.3,128.8 L 149.5,135.4' style='fill:none;fill-rule:evenodd;stroke:#33CCCC;stroke-width:2.0px;stroke-linecap:butt;stroke-linejoin:miter;stroke-opacity:1' />\\n<path class='bond-21 atom-16 atom-19' d='M 158.7,107.1 L 166.2,108.7' style='fill:none;fill-rule:evenodd;stroke:#000000;stroke-width:2.0px;stroke-linecap:butt;stroke-linejoin:miter;stroke-opacity:1' />\\n<path class='bond-21 atom-16 atom-19' d='M 166.2,108.7 L 173.8,110.3' style='fill:none;fill-rule:evenodd;stroke:#0000FF;stroke-width:2.0px;stroke-linecap:butt;stroke-linejoin:miter;stroke-opacity:1' />\\n<path class='bond-22 atom-19 atom-20' d='M 183.0,106.2 L 185.5,103.5' style='fill:none;fill-rule:evenodd;stroke:#0000FF;stroke-width:2.0px;stroke-linecap:butt;stroke-linejoin:miter;stroke-opacity:1' />\\n<path class='bond-22 atom-19 atom-20' d='M 185.5,103.5 L 187.9,100.7' style='fill:none;fill-rule:evenodd;stroke:#CCCC00;stroke-width:2.0px;stroke-linecap:butt;stroke-linejoin:miter;stroke-opacity:1' />\\n<path class='bond-23 atom-20 atom-21' d='M 194.9,101.0 L 197.7,103.5' style='fill:none;fill-rule:evenodd;stroke:#CCCC00;stroke-width:2.0px;stroke-linecap:butt;stroke-linejoin:miter;stroke-opacity:1' />\\n<path class='bond-23 atom-20 atom-21' d='M 197.7,103.5 L 200.5,106.1' style='fill:none;fill-rule:evenodd;stroke:#FF0000;stroke-width:2.0px;stroke-linecap:butt;stroke-linejoin:miter;stroke-opacity:1' />\\n<path class='bond-23 atom-20 atom-21' d='M 196.9,98.8 L 199.7,101.3' style='fill:none;fill-rule:evenodd;stroke:#CCCC00;stroke-width:2.0px;stroke-linecap:butt;stroke-linejoin:miter;stroke-opacity:1' />\\n<path class='bond-23 atom-20 atom-21' d='M 199.7,101.3 L 202.5,103.8' style='fill:none;fill-rule:evenodd;stroke:#FF0000;stroke-width:2.0px;stroke-linecap:butt;stroke-linejoin:miter;stroke-opacity:1' />\\n<path class='bond-24 atom-20 atom-22' d='M 188.9,91.6 L 186.1,89.1' style='fill:none;fill-rule:evenodd;stroke:#CCCC00;stroke-width:2.0px;stroke-linecap:butt;stroke-linejoin:miter;stroke-opacity:1' />\\n<path class='bond-24 atom-20 atom-22' d='M 186.1,89.1 L 183.3,86.6' style='fill:none;fill-rule:evenodd;stroke:#FF0000;stroke-width:2.0px;stroke-linecap:butt;stroke-linejoin:miter;stroke-opacity:1' />\\n<path class='bond-24 atom-20 atom-22' d='M 186.9,93.9 L 184.1,91.3' style='fill:none;fill-rule:evenodd;stroke:#CCCC00;stroke-width:2.0px;stroke-linecap:butt;stroke-linejoin:miter;stroke-opacity:1' />\\n<path class='bond-24 atom-20 atom-22' d='M 184.1,91.3 L 181.3,88.8' style='fill:none;fill-rule:evenodd;stroke:#FF0000;stroke-width:2.0px;stroke-linecap:butt;stroke-linejoin:miter;stroke-opacity:1' />\\n<path class='bond-25 atom-20 atom-23' d='M 195.9,91.9 L 200.7,86.6' style='fill:none;fill-rule:evenodd;stroke:#CCCC00;stroke-width:2.0px;stroke-linecap:butt;stroke-linejoin:miter;stroke-opacity:1' />\\n<path class='bond-25 atom-20 atom-23' d='M 200.7,86.6 L 205.4,81.3' style='fill:none;fill-rule:evenodd;stroke:#000000;stroke-width:2.0px;stroke-linecap:butt;stroke-linejoin:miter;stroke-opacity:1' />\\n<path class='bond-26 atom-23 atom-29' d='M 205.4,81.3 L 225.1,85.5' style='fill:none;fill-rule:evenodd;stroke:#000000;stroke-width:2.0px;stroke-linecap:butt;stroke-linejoin:miter;stroke-opacity:1' />\\n<path class='bond-27 atom-23 atom-24' d='M 205.4,81.3 L 199.2,62.1' style='fill:none;fill-rule:evenodd;stroke:#000000;stroke-width:2.0px;stroke-linecap:butt;stroke-linejoin:miter;stroke-opacity:1' />\\n<path class='bond-27 atom-23 atom-24' d='M 207.7,78.7 L 202.6,62.9' style='fill:none;fill-rule:evenodd;stroke:#000000;stroke-width:2.0px;stroke-linecap:butt;stroke-linejoin:miter;stroke-opacity:1' />\\n<path class='bond-28 atom-24 atom-25' d='M 199.2,62.1 L 191.2,60.4' style='fill:none;fill-rule:evenodd;stroke:#000000;stroke-width:2.0px;stroke-linecap:butt;stroke-linejoin:miter;stroke-opacity:1' />\\n<path class='bond-28 atom-24 atom-25' d='M 191.2,60.4 L 183.2,58.7' style='fill:none;fill-rule:evenodd;stroke:#33CCCC;stroke-width:2.0px;stroke-linecap:butt;stroke-linejoin:miter;stroke-opacity:1' />\\n<path class='bond-29 atom-24 atom-26' d='M 199.2,62.1 L 212.7,47.2' style='fill:none;fill-rule:evenodd;stroke:#000000;stroke-width:2.0px;stroke-linecap:butt;stroke-linejoin:miter;stroke-opacity:1' />\\n<path class='bond-30 atom-26 atom-27' d='M 212.7,47.2 L 232.4,51.3' style='fill:none;fill-rule:evenodd;stroke:#000000;stroke-width:2.0px;stroke-linecap:butt;stroke-linejoin:miter;stroke-opacity:1' />\\n<path class='bond-30 atom-26 atom-27' d='M 213.7,50.5 L 230.1,53.9' style='fill:none;fill-rule:evenodd;stroke:#000000;stroke-width:2.0px;stroke-linecap:butt;stroke-linejoin:miter;stroke-opacity:1' />\\n<path class='bond-31 atom-27 atom-28' d='M 232.4,51.3 L 238.6,70.5' style='fill:none;fill-rule:evenodd;stroke:#000000;stroke-width:2.0px;stroke-linecap:butt;stroke-linejoin:miter;stroke-opacity:1' />\\n<path class='bond-32 atom-28 atom-29' d='M 238.6,70.5 L 225.1,85.5' style='fill:none;fill-rule:evenodd;stroke:#000000;stroke-width:2.0px;stroke-linecap:butt;stroke-linejoin:miter;stroke-opacity:1' />\\n<path class='bond-32 atom-28 atom-29' d='M 235.2,69.8 L 224.1,82.2' style='fill:none;fill-rule:evenodd;stroke:#000000;stroke-width:2.0px;stroke-linecap:butt;stroke-linejoin:miter;stroke-opacity:1' />\\n<path class='bond-33 atom-29 atom-30' d='M 225.1,85.5 L 227.3,92.2' style='fill:none;fill-rule:evenodd;stroke:#000000;stroke-width:2.0px;stroke-linecap:butt;stroke-linejoin:miter;stroke-opacity:1' />\\n<path class='bond-33 atom-29 atom-30' d='M 227.3,92.2 L 229.5,98.9' style='fill:none;fill-rule:evenodd;stroke:#33CCCC;stroke-width:2.0px;stroke-linecap:butt;stroke-linejoin:miter;stroke-opacity:1' />\\n<path class='bond-34 atom-9 atom-31' d='M 98.7,162.7 L 96.6,182.8' style='fill:none;fill-rule:evenodd;stroke:#000000;stroke-width:2.0px;stroke-linecap:butt;stroke-linejoin:miter;stroke-opacity:1' />\\n<path class='bond-35 atom-31 atom-32' d='M 96.6,182.8 L 116.6,184.9' style='fill:none;fill-rule:evenodd;stroke:#000000;stroke-width:2.0px;stroke-linecap:butt;stroke-linejoin:miter;stroke-opacity:1' />\\n<path class='bond-36 atom-31 atom-33' d='M 96.6,182.8 L 94.5,202.8' style='fill:none;fill-rule:evenodd;stroke:#000000;stroke-width:2.0px;stroke-linecap:butt;stroke-linejoin:miter;stroke-opacity:1' />\\n<path class='bond-37 atom-31 atom-34' d='M 96.6,182.8 L 76.5,180.7' style='fill:none;fill-rule:evenodd;stroke:#000000;stroke-width:2.0px;stroke-linecap:butt;stroke-linejoin:miter;stroke-opacity:1' />\\n<path d='M 81.4,78.4 L 81.8,78.4 L 82.3,79.3' style='fill:none;stroke:#000000;stroke-width:2.0px;stroke-linecap:butt;stroke-linejoin:miter;stroke-opacity:1;' />\\n<path d='M 91.4,95.0 L 91.9,95.9 L 91.4,96.7' style='fill:none;stroke:#000000;stroke-width:2.0px;stroke-linecap:butt;stroke-linejoin:miter;stroke-opacity:1;' />\\n<path d='M 119.5,99.7 L 119.2,98.7 L 119.9,98.0' style='fill:none;stroke:#000000;stroke-width:2.0px;stroke-linecap:butt;stroke-linejoin:miter;stroke-opacity:1;' />\\n<path d='M 132.0,84.5 L 132.7,83.7 L 133.7,83.9' style='fill:none;stroke:#000000;stroke-width:2.0px;stroke-linecap:butt;stroke-linejoin:miter;stroke-opacity:1;' />\\n<path d='M 151.5,87.7 L 152.4,87.9 L 152.8,88.9' style='fill:none;stroke:#000000;stroke-width:2.0px;stroke-linecap:butt;stroke-linejoin:miter;stroke-opacity:1;' />\\n<path d='M 212.0,47.9 L 212.7,47.2 L 213.7,47.4' style='fill:none;stroke:#000000;stroke-width:2.0px;stroke-linecap:butt;stroke-linejoin:miter;stroke-opacity:1;' />\\n<path d='M 231.4,51.1 L 232.4,51.3 L 232.7,52.3' style='fill:none;stroke:#000000;stroke-width:2.0px;stroke-linecap:butt;stroke-linejoin:miter;stroke-opacity:1;' />\\n<path d='M 238.3,69.6 L 238.6,70.5 L 238.0,71.3' style='fill:none;stroke:#000000;stroke-width:2.0px;stroke-linecap:butt;stroke-linejoin:miter;stroke-opacity:1;' />\\n<path class='atom-0' d='M 11.4 90.7\\nL 12.8 90.7\\nL 12.8 95.1\\nL 18.1 95.1\\nL 18.1 90.7\\nL 19.5 90.7\\nL 19.5 101.0\\nL 18.1 101.0\\nL 18.1 96.3\\nL 12.8 96.3\\nL 12.8 101.0\\nL 11.4 101.0\\nL 11.4 90.7\\n' fill='#0000FF'/>\\n<path class='atom-0' d='M 21.5 100.7\\nQ 21.8 100.0, 22.4 99.7\\nQ 22.9 99.3, 23.8 99.3\\nQ 24.8 99.3, 25.4 99.9\\nQ 26.0 100.4, 26.0 101.4\\nQ 26.0 102.4, 25.2 103.4\\nQ 24.5 104.3, 22.9 105.4\\nL 26.1 105.4\\nL 26.1 106.2\\nL 21.5 106.2\\nL 21.5 105.6\\nQ 22.8 104.7, 23.5 104.0\\nQ 24.3 103.3, 24.6 102.7\\nQ 25.0 102.1, 25.0 101.5\\nQ 25.0 100.8, 24.7 100.4\\nQ 24.3 100.1, 23.8 100.1\\nQ 23.2 100.1, 22.9 100.3\\nQ 22.5 100.5, 22.2 101.0\\nL 21.5 100.7\\n' fill='#0000FF'/>\\n<path class='atom-0' d='M 29.1 90.7\\nL 32.5 96.2\\nQ 32.8 96.7, 33.3 97.7\\nQ 33.9 98.7, 33.9 98.7\\nL 33.9 90.7\\nL 35.3 90.7\\nL 35.3 101.0\\nL 33.9 101.0\\nL 30.2 95.0\\nQ 29.8 94.3, 29.4 93.5\\nQ 28.9 92.7, 28.8 92.5\\nL 28.8 101.0\\nL 27.4 101.0\\nL 27.4 90.7\\nL 29.1 90.7\\n' fill='#0000FF'/>\\n<path class='atom-2' d='M 59.3 73.2\\nL 62.7 78.7\\nQ 63.1 79.2, 63.6 80.2\\nQ 64.1 81.2, 64.2 81.3\\nL 64.2 73.2\\nL 65.6 73.2\\nL 65.6 83.6\\nL 64.1 83.6\\nL 60.5 77.6\\nQ 60.1 76.9, 59.6 76.1\\nQ 59.2 75.3, 59.0 75.0\\nL 59.0 83.6\\nL 57.7 83.6\\nL 57.7 73.2\\nL 59.3 73.2\\n' fill='#0000FF'/>\\n<path class='atom-6' d='M 59.3 108.1\\nL 62.7 113.6\\nQ 63.1 114.2, 63.6 115.2\\nQ 64.1 116.1, 64.2 116.2\\nL 64.2 108.1\\nL 65.6 108.1\\nL 65.6 118.5\\nL 64.1 118.5\\nL 60.5 112.5\\nQ 60.1 111.8, 59.6 111.0\\nQ 59.2 110.2, 59.0 109.9\\nL 59.0 118.5\\nL 57.7 118.5\\nL 57.7 108.1\\nL 59.3 108.1\\n' fill='#0000FF'/>\\n<path class='atom-8' d='M 80.8 152.8\\nQ 80.9 152.8, 81.4 153.0\\nQ 81.8 153.2, 82.4 153.4\\nQ 82.9 153.5, 83.4 153.5\\nQ 84.4 153.5, 85.0 153.0\\nQ 85.6 152.5, 85.6 151.7\\nQ 85.6 151.1, 85.3 150.8\\nQ 85.0 150.4, 84.5 150.2\\nQ 84.1 150.0, 83.4 149.8\\nQ 82.4 149.5, 81.9 149.3\\nQ 81.4 149.0, 81.0 148.5\\nQ 80.6 147.9, 80.6 147.0\\nQ 80.6 145.7, 81.5 144.9\\nQ 82.3 144.1, 84.1 144.1\\nQ 85.3 144.1, 86.7 144.6\\nL 86.3 145.8\\nQ 85.1 145.2, 84.1 145.2\\nQ 83.1 145.2, 82.6 145.7\\nQ 82.0 146.1, 82.0 146.8\\nQ 82.0 147.4, 82.3 147.7\\nQ 82.6 148.0, 83.0 148.2\\nQ 83.4 148.4, 84.1 148.6\\nQ 85.1 148.9, 85.6 149.2\\nQ 86.2 149.5, 86.6 150.1\\nQ 87.0 150.7, 87.0 151.7\\nQ 87.0 153.1, 86.0 153.9\\nQ 85.1 154.7, 83.5 154.7\\nQ 82.6 154.7, 81.9 154.5\\nQ 81.2 154.3, 80.4 153.9\\nL 80.8 152.8\\n' fill='#CCCC00'/>\\n<path class='atom-10' d='M 113.9 147.5\\nL 117.2 152.9\\nQ 117.6 153.5, 118.1 154.5\\nQ 118.7 155.4, 118.7 155.5\\nL 118.7 147.5\\nL 120.1 147.5\\nL 120.1 157.8\\nL 118.7 157.8\\nL 115.0 151.8\\nQ 114.6 151.1, 114.1 150.3\\nQ 113.7 149.5, 113.6 149.3\\nL 113.6 157.8\\nL 112.2 157.8\\nL 112.2 147.5\\nL 113.9 147.5\\n' fill='#0000FF'/>\\n<path class='atom-18' d='M 148.3 136.1\\nL 154.5 136.1\\nL 154.5 137.3\\nL 149.7 137.3\\nL 149.7 140.4\\nL 154.0 140.4\\nL 154.0 141.6\\nL 149.7 141.6\\nL 149.7 146.5\\nL 148.3 146.5\\nL 148.3 136.1\\n' fill='#33CCCC'/>\\n<path class='atom-19' d='M 176.1 106.1\\nL 179.5 111.6\\nQ 179.8 112.2, 180.4 113.1\\nQ 180.9 114.1, 181.0 114.2\\nL 181.0 106.1\\nL 182.3 106.1\\nL 182.3 116.5\\nL 180.9 116.5\\nL 177.3 110.5\\nQ 176.8 109.8, 176.4 109.0\\nQ 176.0 108.2, 175.8 107.9\\nL 175.8 116.5\\nL 174.5 116.5\\nL 174.5 106.1\\nL 176.1 106.1\\n' fill='#0000FF'/>\\n<path class='atom-19' d='M 174.4 117.5\\nL 175.8 117.5\\nL 175.8 121.9\\nL 181.1 121.9\\nL 181.1 117.5\\nL 182.5 117.5\\nL 182.5 127.9\\nL 181.1 127.9\\nL 181.1 123.1\\nL 175.8 123.1\\nL 175.8 127.9\\nL 174.4 127.9\\nL 174.4 117.5\\n' fill='#0000FF'/>\\n<path class='atom-20' d='M 189.0 99.9\\nQ 189.1 99.9, 189.6 100.1\\nQ 190.1 100.3, 190.6 100.5\\nQ 191.1 100.6, 191.7 100.6\\nQ 192.6 100.6, 193.2 100.1\\nQ 193.8 99.6, 193.8 98.8\\nQ 193.8 98.2, 193.5 97.9\\nQ 193.2 97.5, 192.8 97.3\\nQ 192.3 97.1, 191.6 96.9\\nQ 190.7 96.6, 190.1 96.4\\nQ 189.6 96.1, 189.2 95.6\\nQ 188.8 95.0, 188.8 94.1\\nQ 188.8 92.8, 189.7 92.0\\nQ 190.6 91.2, 192.3 91.2\\nQ 193.5 91.2, 194.9 91.7\\nL 194.6 92.9\\nQ 193.3 92.3, 192.4 92.3\\nQ 191.4 92.3, 190.8 92.8\\nQ 190.3 93.2, 190.3 93.9\\nQ 190.3 94.4, 190.5 94.8\\nQ 190.8 95.1, 191.2 95.3\\nQ 191.7 95.5, 192.4 95.7\\nQ 193.3 96.0, 193.9 96.3\\nQ 194.4 96.6, 194.8 97.2\\nQ 195.2 97.8, 195.2 98.8\\nQ 195.2 100.2, 194.3 101.0\\nQ 193.3 101.8, 191.7 101.8\\nQ 190.8 101.8, 190.1 101.6\\nQ 189.4 101.4, 188.6 101.0\\nL 189.0 99.9\\n' fill='#CCCC00'/>\\n<path class='atom-21' d='M 202.1 109.8\\nQ 202.1 107.4, 203.4 106.0\\nQ 204.6 104.6, 206.9 104.6\\nQ 209.2 104.6, 210.4 106.0\\nQ 211.7 107.4, 211.7 109.8\\nQ 211.7 112.4, 210.4 113.8\\nQ 209.2 115.2, 206.9 115.2\\nQ 204.6 115.2, 203.4 113.8\\nQ 202.1 112.4, 202.1 109.8\\nM 206.9 114.0\\nQ 208.5 114.0, 209.3 113.0\\nQ 210.2 111.9, 210.2 109.8\\nQ 210.2 107.8, 209.3 106.8\\nQ 208.5 105.7, 206.9 105.7\\nQ 205.3 105.7, 204.5 106.8\\nQ 203.6 107.8, 203.6 109.8\\nQ 203.6 111.9, 204.5 113.0\\nQ 205.3 114.0, 206.9 114.0\\n' fill='#FF0000'/>\\n<path class='atom-22' d='M 172.2 82.8\\nQ 172.2 80.4, 173.4 79.0\\nQ 174.6 77.6, 176.9 77.6\\nQ 179.2 77.6, 180.4 79.0\\nQ 181.7 80.4, 181.7 82.8\\nQ 181.7 85.4, 180.4 86.8\\nQ 179.2 88.2, 176.9 88.2\\nQ 174.6 88.2, 173.4 86.8\\nQ 172.2 85.4, 172.2 82.8\\nM 176.9 87.1\\nQ 178.5 87.1, 179.3 86.0\\nQ 180.2 84.9, 180.2 82.8\\nQ 180.2 80.8, 179.3 79.8\\nQ 178.5 78.8, 176.9 78.8\\nQ 175.3 78.8, 174.5 79.8\\nQ 173.6 80.8, 173.6 82.8\\nQ 173.6 84.9, 174.5 86.0\\nQ 175.3 87.1, 176.9 87.1\\n' fill='#FF0000'/>\\n<path class='atom-25' d='M 176.4 52.8\\nL 182.5 52.8\\nL 182.5 54.0\\nL 177.7 54.0\\nL 177.7 57.1\\nL 182.0 57.1\\nL 182.0 58.3\\nL 177.7 58.3\\nL 177.7 63.1\\nL 176.4 63.1\\nL 176.4 52.8\\n' fill='#33CCCC'/>\\n<path class='atom-30' d='M 228.3 99.5\\nL 234.5 99.5\\nL 234.5 100.7\\nL 229.7 100.7\\nL 229.7 103.9\\nL 233.9 103.9\\nL 233.9 105.1\\nL 229.7 105.1\\nL 229.7 109.9\\nL 228.3 109.9\\nL 228.3 99.5\\n' fill='#33CCCC'/>\\n</svg>\\n\""
      ]
     },
     "execution_count": 31,
     "metadata": {},
     "output_type": "execute_result"
    }
   ],
   "source": [
    "svg"
   ]
  }
 ],
 "metadata": {
  "kernelspec": {
   "display_name": "Python 3 (ipykernel)",
   "language": "python",
   "name": "python3"
  },
  "language_info": {
   "codemirror_mode": {
    "name": "ipython",
    "version": 3
   },
   "file_extension": ".py",
   "mimetype": "text/x-python",
   "name": "python",
   "nbconvert_exporter": "python",
   "pygments_lexer": "ipython3",
   "version": "3.9.10"
  }
 },
 "nbformat": 4,
 "nbformat_minor": 5
}
