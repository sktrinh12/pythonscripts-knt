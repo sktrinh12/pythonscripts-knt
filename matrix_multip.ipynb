{
 "cells": [
  {
   "cell_type": "code",
   "execution_count": 2,
   "id": "f81075b2-9d69-4e55-a6df-23ed1f04eac6",
   "metadata": {},
   "outputs": [
    {
     "name": "stdout",
     "output_type": "stream",
     "text": [
      "[[-1.42108547e-14  6.66665930e+01]]\n"
     ]
    }
   ],
   "source": [
    "import numpy as np\n",
    "from math import sin, cos, pi\n",
    "\n",
    "O = np.array([[0, 0]])\n",
    "O_ = np.array([[0,100]])\n",
    "\n",
    "theta = 5*pi/4\n",
    "B = np.array([[cos(theta), -sin(theta)], [sin(theta), cos(theta)]]) # right\n",
    "B_ = np.array([[cos(-theta), -sin(-theta)], [sin(-theta), cos(-theta)]]) # left"
   ]
  },
  {
   "cell_type": "code",
   "execution_count": 3,
   "id": "ea77aa46-e7ba-4eba-a934-be67a87186b8",
   "metadata": {},
   "outputs": [],
   "source": [
    "newO = O_ - O"
   ]
  },
  {
   "cell_type": "code",
   "execution_count": 46,
   "id": "cb04f7cc-f16f-479c-a37a-c57d91973cc8",
   "metadata": {},
   "outputs": [
    {
     "data": {
      "text/plain": [
       "array([[ 70.71067812, -70.71067812]])"
      ]
     },
     "execution_count": 46,
     "metadata": {},
     "output_type": "execute_result"
    }
   ],
   "source": [
    "lev0 = newO@B_\n",
    "lev0"
   ]
  },
  {
   "cell_type": "code",
   "execution_count": 54,
   "id": "3b77e053-135f-4c00-a7ff-ee93edf24ad1",
   "metadata": {},
   "outputs": [
    {
     "data": {
      "text/plain": [
       "array([[-70.71067812, -70.71067812]])"
      ]
     },
     "execution_count": 54,
     "metadata": {},
     "output_type": "execute_result"
    }
   ],
   "source": [
    "lev0_ = newO@B\n",
    "lev0_"
   ]
  },
  {
   "cell_type": "code",
   "execution_count": 47,
   "id": "21046a90-d56b-4681-a5f4-bb579fe36763",
   "metadata": {},
   "outputs": [
    {
     "data": {
      "text/plain": [
       "array([[ 47.14045208, -47.14045208]])"
      ]
     },
     "execution_count": 47,
     "metadata": {},
     "output_type": "execute_result"
    }
   ],
   "source": [
    "# first level of branches\n",
    "b0 = (lev0*2/3) \n",
    "b0"
   ]
  },
  {
   "cell_type": "code",
   "execution_count": 55,
   "id": "b588bc3d-6aab-46ae-bd6f-48686e6b57d5",
   "metadata": {},
   "outputs": [
    {
     "data": {
      "text/plain": [
       "array([[-47.14045208, -47.14045208]])"
      ]
     },
     "execution_count": 55,
     "metadata": {},
     "output_type": "execute_result"
    }
   ],
   "source": [
    "# first level of branches\n",
    "b0_ = (lev0_*2/3) \n",
    "b0_"
   ]
  },
  {
   "cell_type": "code",
   "execution_count": 49,
   "id": "0a5b8596-78f0-4f27-b96f-dbe6ac895eb8",
   "metadata": {},
   "outputs": [
    {
     "data": {
      "text/plain": [
       "array([[-4.44444444e+01,  1.42108547e-14]])"
      ]
     },
     "execution_count": 49,
     "metadata": {},
     "output_type": "execute_result"
    }
   ],
   "source": [
    "# second level of branches\n",
    "b1 = (b0*2/3)@B_\n",
    "b1"
   ]
  },
  {
   "cell_type": "code",
   "execution_count": 56,
   "id": "686c70a8-e990-44a3-9743-d79c8c1ed01a",
   "metadata": {},
   "outputs": [
    {
     "data": {
      "text/plain": [
       "array([[4.44444444e+01, 1.42108547e-14]])"
      ]
     },
     "execution_count": 56,
     "metadata": {},
     "output_type": "execute_result"
    }
   ],
   "source": [
    "# second level of branches\n",
    "b1_ = (b0_*2/3)@B\n",
    "b1_"
   ]
  },
  {
   "cell_type": "code",
   "execution_count": 52,
   "id": "ffd41aea-0a3e-4e49-93f5-30d32ff984ab",
   "metadata": {},
   "outputs": [
    {
     "data": {
      "text/plain": [
       "array([[20.95131204, 20.95131204]])"
      ]
     },
     "execution_count": 52,
     "metadata": {},
     "output_type": "execute_result"
    }
   ],
   "source": [
    "# third leve of branches\n",
    "b2 = (b1*2/3)@B_\n",
    "b2"
   ]
  },
  {
   "cell_type": "code",
   "execution_count": 57,
   "id": "f3c9de0e-b4d8-4603-9544-f29658bfa4f9",
   "metadata": {},
   "outputs": [
    {
     "data": {
      "text/plain": [
       "array([[-20.95131204,  20.95131204]])"
      ]
     },
     "execution_count": 57,
     "metadata": {},
     "output_type": "execute_result"
    }
   ],
   "source": [
    "# third leve of branches\n",
    "b2_ = (b1_*2/3)@B\n",
    "b2_"
   ]
  },
  {
   "cell_type": "code",
   "execution_count": 50,
   "id": "3f2b9b28-c90e-41ba-9996-f0bd790a1123",
   "metadata": {},
   "outputs": [
    {
     "data": {
      "text/plain": [
       "array([[-0.70710678, -0.70710678],\n",
       "       [ 0.70710678, -0.70710678]])"
      ]
     },
     "execution_count": 50,
     "metadata": {},
     "output_type": "execute_result"
    }
   ],
   "source": [
    "B_"
   ]
  },
  {
   "cell_type": "code",
   "execution_count": 51,
   "id": "7e6eadba-03b2-4ad6-ae93-6d24dd8df62b",
   "metadata": {},
   "outputs": [
    {
     "data": {
      "text/plain": [
       "array([[-0.70710678,  0.70710678],\n",
       "       [-0.70710678, -0.70710678]])"
      ]
     },
     "execution_count": 51,
     "metadata": {},
     "output_type": "execute_result"
    }
   ],
   "source": [
    "B"
   ]
  }
 ],
 "metadata": {
  "kernelspec": {
   "display_name": "Python 3 (ipykernel)",
   "language": "python",
   "name": "python3"
  },
  "language_info": {
   "codemirror_mode": {
    "name": "ipython",
    "version": 3
   },
   "file_extension": ".py",
   "mimetype": "text/x-python",
   "name": "python",
   "nbconvert_exporter": "python",
   "pygments_lexer": "ipython3",
   "version": "3.9.10"
  }
 },
 "nbformat": 4,
 "nbformat_minor": 5
}
