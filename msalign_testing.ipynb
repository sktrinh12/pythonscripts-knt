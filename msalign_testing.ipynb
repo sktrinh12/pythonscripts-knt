{
 "cells": [
  {
   "cell_type": "code",
   "execution_count": 1,
   "id": "adc9e5bd-2bc7-4bfb-b6b5-1b891feb584d",
   "metadata": {},
   "outputs": [
    {
     "name": "stdout",
     "output_type": "stream",
     "text": [
      "Collecting msalign\n",
      "  Downloading msalign-0.2.0-py2.py3-none-any.whl (17 kB)\n",
      "Requirement already satisfied: scipy in /opt/conda/lib/python3.9/site-packages (from msalign) (1.8.0)\n",
      "Requirement already satisfied: numpy in /opt/conda/lib/python3.9/site-packages (from msalign) (1.21.5)\n",
      "Installing collected packages: msalign\n",
      "Successfully installed msalign-0.2.0\n"
     ]
    }
   ],
   "source": [
    "!pip install msalign"
   ]
  },
  {
   "cell_type": "code",
   "execution_count": 7,
   "id": "b7e79d1f-2669-41e5-9f18-ebaccdd36dae",
   "metadata": {},
   "outputs": [],
   "source": [
    "import matplotlib.pyplot as plt"
   ]
  },
  {
   "cell_type": "code",
   "execution_count": 3,
   "id": "39aee1ea-e239-4c88-9e6f-9b138ba3dbfe",
   "metadata": {},
   "outputs": [],
   "source": [
    "import numpy as np\n",
    "from msalign import msalign\n",
    "\n",
    "\n",
    "filename = r\"/home/jovyan/work/Documents/data_files/msalign_test_data.csv\"\n",
    "data = np.genfromtxt(filename, delimiter=\",\")\n",
    "x = data[1:, 0]\n",
    "array = data[1:, 1:].T\n",
    "peaks = [3991.4, 4598, 7964, 9160]\n",
    "\n",
    "aligned = msalign(x, array, peaks, weights=[60, 100, 60, 100], only_shift=False)"
   ]
  },
  {
   "cell_type": "code",
   "execution_count": 6,
   "id": "2b9f6036-0aad-4a4d-8d94-e7f19b691cd7",
   "metadata": {},
   "outputs": [
    {
     "data": {
      "text/plain": [
       "(15155, 9)"
      ]
     },
     "execution_count": 6,
     "metadata": {},
     "output_type": "execute_result"
    }
   ],
   "source": [
    "data.shape"
   ]
  },
  {
   "cell_type": "code",
   "execution_count": 5,
   "id": "00e73ac1-6655-4b23-a6f5-610fc539dfd2",
   "metadata": {},
   "outputs": [
    {
     "data": {
      "text/plain": [
       "array([[ 1.0000000e+00,  2.0000000e+00,  3.0000000e+00, ...,\n",
       "         7.0000000e+00,  8.0000000e+00,  9.0000000e+00],\n",
       "       [-7.8600000e-05, -3.6611765e-01, -6.0203922e-01, ...,\n",
       "        -3.5639216e-01,  4.2011061e+00,  4.1950729e+00],\n",
       "       [ 2.1800000e-07, -2.8768627e-01, -4.5301961e-01, ...,\n",
       "        -2.5443137e-01,  4.1608849e+00,  4.1930618e+00],\n",
       "       ...,\n",
       "       [ 1.9990235e+04, -1.8131479e-02, -3.6580942e-02, ...,\n",
       "        -7.4964180e-03,  4.0992124e+00,  4.2040554e+00],\n",
       "       [ 1.9992874e+04, -1.8585727e-02, -3.6332866e-02, ...,\n",
       "        -7.3371190e-03,  4.0992124e+00,  4.2040554e+00],\n",
       "       [ 1.9995513e+04, -1.9040004e-02, -3.6084773e-02, ...,\n",
       "        -7.1778100e-03,  4.0992124e+00,  4.2040554e+00]])"
      ]
     },
     "execution_count": 5,
     "metadata": {},
     "output_type": "execute_result"
    }
   ],
   "source": [
    "data"
   ]
  },
  {
   "cell_type": "code",
   "execution_count": 4,
   "id": "4af17e68-1f4b-4a47-a232-a418e0bbb23b",
   "metadata": {},
   "outputs": [
    {
     "data": {
      "text/plain": [
       "array([[ 0.06471721,  0.06466908,  0.06461192, ...,  0.        ,\n",
       "         0.        ,  0.        ],\n",
       "       [ 0.45638604,  0.45744489,  0.45872866, ...,  0.        ,\n",
       "         0.        ,  0.        ],\n",
       "       [ 4.19081307,  4.19088192,  4.19096609, ...,  4.07803055,\n",
       "         4.07802886,  4.07802979],\n",
       "       ...,\n",
       "       [-0.43607246, -0.43631766, -0.43660756, ...,  0.        ,\n",
       "         0.        ,  0.        ],\n",
       "       [ 4.20452189,  4.20426381,  4.20394751, ...,  0.        ,\n",
       "         0.        ,  0.        ],\n",
       "       [ 0.        ,  0.        ,  0.        , ...,  4.20405698,\n",
       "         4.20405485,  4.20405603]])"
      ]
     },
     "execution_count": 4,
     "metadata": {},
     "output_type": "execute_result"
    }
   ],
   "source": [
    "aligned"
   ]
  },
  {
   "cell_type": "code",
   "execution_count": 18,
   "id": "df68b0d9-9e65-427d-bed4-67bef68877ff",
   "metadata": {},
   "outputs": [],
   "source": [
    "from scipy.ndimage import shift\n",
    "from scipy import signal"
   ]
  },
  {
   "cell_type": "code",
   "execution_count": 11,
   "id": "a2050f5c-db9e-4db0-aefb-56770563a38a",
   "metadata": {},
   "outputs": [
    {
     "data": {
      "text/plain": [
       "array([0.05958732, 0.104579  , 0.17242162, 0.26705184, 0.38855813,\n",
       "       0.53109599, 0.68194075, 0.82257756, 0.93210249, 0.99221794,\n",
       "       0.99221794, 0.93210249, 0.82257756, 0.68194075, 0.53109599,\n",
       "       0.38855813, 0.26705184, 0.17242162, 0.104579  , 0.05958732])"
      ]
     },
     "execution_count": 11,
     "metadata": {},
     "output_type": "execute_result"
    }
   ],
   "source": [
    "d = signal.gaussian(20, std=4)\n",
    "d"
   ]
  },
  {
   "cell_type": "code",
   "execution_count": 12,
   "id": "3bf6d46f-e01a-4a2c-916a-6f9287392a52",
   "metadata": {},
   "outputs": [
    {
     "data": {
      "text/plain": [
       "[<matplotlib.lines.Line2D at 0x7fa3f1faa520>]"
      ]
     },
     "execution_count": 12,
     "metadata": {},
     "output_type": "execute_result"
    },
    {
     "data": {
      "image/png": "[encoded data removed]",
      "text/plain": [
       "<Figure size 432x288 with 1 Axes>"
      ]
     },
     "metadata": {
      "needs_background": "light"
     },
     "output_type": "display_data"
    }
   ],
   "source": [
    "plt.plot(d)"
   ]
  },
  {
   "cell_type": "code",
   "execution_count": 27,
   "id": "4c013985-144e-4501-8373-445e3e84ac86",
   "metadata": {},
   "outputs": [],
   "source": [
    "n_signals = 5\n",
    "n_points = 20\n",
    "array = np.zeros((n_signals, n_points))\n",
    "shifts = np.arange(10)\n",
    "noise = 1e-3"
   ]
  },
  {
   "cell_type": "code",
   "execution_count": 28,
   "id": "37a4e35c-8610-471e-b0ff-426004d3e789",
   "metadata": {},
   "outputs": [
    {
     "data": {
      "text/plain": [
       "array([[0., 0., 0., 0., 0., 0., 0., 0., 0., 0., 0., 0., 0., 0., 0., 0.,\n",
       "        0., 0., 0., 0.],\n",
       "       [0., 0., 0., 0., 0., 0., 0., 0., 0., 0., 0., 0., 0., 0., 0., 0.,\n",
       "        0., 0., 0., 0.],\n",
       "       [0., 0., 0., 0., 0., 0., 0., 0., 0., 0., 0., 0., 0., 0., 0., 0.,\n",
       "        0., 0., 0., 0.],\n",
       "       [0., 0., 0., 0., 0., 0., 0., 0., 0., 0., 0., 0., 0., 0., 0., 0.,\n",
       "        0., 0., 0., 0.],\n",
       "       [0., 0., 0., 0., 0., 0., 0., 0., 0., 0., 0., 0., 0., 0., 0., 0.,\n",
       "        0., 0., 0., 0.]])"
      ]
     },
     "execution_count": 28,
     "metadata": {},
     "output_type": "execute_result"
    }
   ],
   "source": [
    "array"
   ]
  },
  {
   "cell_type": "code",
   "execution_count": 29,
   "id": "449fa677-0c9c-46de-8965-a58451ff1b88",
   "metadata": {},
   "outputs": [],
   "source": [
    "gaussian_one = signal.gaussian(n_points, std=4)\n",
    "gaussian_two = shift(signal.gaussian(n_points, std=4) * 0.5, n_points * 0.2)\n",
    "gaussian = gaussian_one + gaussian_two"
   ]
  },
  {
   "cell_type": "code",
   "execution_count": 30,
   "id": "9d80858c-e193-4ddb-901e-6b20a57163a6",
   "metadata": {},
   "outputs": [
    {
     "data": {
      "text/plain": [
       "array([0.05958732, 0.104579  , 0.17242162, 0.26705184, 0.41835179,\n",
       "       0.58338549, 0.76815156, 0.95610348, 1.12638156, 1.25776593,\n",
       "       1.33318831, 1.34339127, 1.28862881, 1.17804972, 1.02720496,\n",
       "       0.85460937, 0.67834062, 0.513392  , 0.370127  , 0.25386638])"
      ]
     },
     "execution_count": 30,
     "metadata": {},
     "output_type": "execute_result"
    }
   ],
   "source": [
    "gaussian"
   ]
  },
  {
   "cell_type": "code",
   "execution_count": 34,
   "id": "b5401e0c-19f3-4892-a94b-8d6e1ab3e764",
   "metadata": {},
   "outputs": [
    {
     "data": {
      "text/plain": [
       "array([0.        , 0.        , 0.        , 0.        , 0.02979366,\n",
       "       0.0522895 , 0.08621081, 0.13352592, 0.19427906, 0.265548  ,\n",
       "       0.34097038, 0.41128878, 0.46605125, 0.49610897, 0.49610897,\n",
       "       0.46605125, 0.41128878, 0.34097038, 0.265548  , 0.19427906])"
      ]
     },
     "execution_count": 34,
     "metadata": {},
     "output_type": "execute_result"
    }
   ],
   "source": [
    "gaussian_two"
   ]
  },
  {
   "cell_type": "code",
   "execution_count": 35,
   "id": "bb900eca-c33c-4566-9a69-eaa1b3731a59",
   "metadata": {},
   "outputs": [
    {
     "data": {
      "text/plain": [
       "array([0.05958732, 0.104579  , 0.17242162, 0.26705184, 0.38855813,\n",
       "       0.53109599, 0.68194075, 0.82257756, 0.93210249, 0.99221794,\n",
       "       0.99221794, 0.93210249, 0.82257756, 0.68194075, 0.53109599,\n",
       "       0.38855813, 0.26705184, 0.17242162, 0.104579  , 0.05958732])"
      ]
     },
     "execution_count": 35,
     "metadata": {},
     "output_type": "execute_result"
    }
   ],
   "source": [
    "gaussian_one"
   ]
  },
  {
   "cell_type": "code",
   "execution_count": 31,
   "id": "3b88e716-b328-4b7a-9e20-4e881b484cf9",
   "metadata": {},
   "outputs": [],
   "source": [
    "for i in range(n_signals):\n",
    "    array[i] = shift(gaussian, shifts[i]) + np.random.normal(0, noise, n_points)"
   ]
  },
  {
   "cell_type": "code",
   "execution_count": 37,
   "id": "3fb9ba6a-986b-45a1-8149-bcbc89c767c4",
   "metadata": {},
   "outputs": [
    {
     "data": {
      "text/plain": [
       "array([0, 1, 2, 3, 4, 5, 6, 7, 8, 9])"
      ]
     },
     "execution_count": 37,
     "metadata": {},
     "output_type": "execute_result"
    }
   ],
   "source": [
    "shifts"
   ]
  },
  {
   "cell_type": "code",
   "execution_count": 43,
   "id": "45801f8d-0d3f-4a6e-9de8-287cda40d65b",
   "metadata": {},
   "outputs": [
    {
     "data": {
      "text/plain": [
       "array([0.        , 0.        , 0.        , 0.        , 0.        ,\n",
       "       0.05958732, 0.104579  , 0.17242162, 0.26705184, 0.41835179,\n",
       "       0.58338549, 0.76815156, 0.95610348, 1.12638156, 1.25776593,\n",
       "       1.33318831, 1.34339127, 1.28862881, 1.17804972, 1.02720496])"
      ]
     },
     "execution_count": 43,
     "metadata": {},
     "output_type": "execute_result"
    }
   ],
   "source": [
    "shift(gaussian, shifts[5]) # shifts the current value over one (LHS) and remove right most value"
   ]
  },
  {
   "cell_type": "code",
   "execution_count": 46,
   "id": "1a6bf6c8-5f61-4f40-990f-46c3f6e9612b",
   "metadata": {},
   "outputs": [
    {
     "data": {
      "text/plain": [
       "array([ 1.88199955e-04,  6.98681857e-04,  1.19907460e-03, -5.81737746e-05,\n",
       "        2.66961120e-03,  5.92026414e-02,  1.03831937e-01,  1.73058845e-01,\n",
       "        2.68250640e-01,  4.17232074e-01,  5.83326812e-01,  7.69778105e-01,\n",
       "        9.55542044e-01,  1.12628087e+00,  1.25715454e+00,  1.33224848e+00,\n",
       "        1.34341510e+00,  1.28707602e+00,  1.17745221e+00,  1.02786888e+00])"
      ]
     },
     "execution_count": 46,
     "metadata": {},
     "output_type": "execute_result"
    }
   ],
   "source": [
    "shift(gaussian, shifts[5])+ np.random.normal(0, noise, n_points)"
   ]
  },
  {
   "cell_type": "code",
   "execution_count": 32,
   "id": "f752e8b8-a385-4cb3-a5f0-2407b86b113c",
   "metadata": {},
   "outputs": [
    {
     "data": {
      "text/plain": [
       "array([[ 6.04603281e-02,  1.03128236e-01,  1.73833997e-01,\n",
       "         2.67573156e-01,  4.16958922e-01,  5.84045945e-01,\n",
       "         7.69074132e-01,  9.55482319e-01,  1.12568248e+00,\n",
       "         1.25908507e+00,  1.33256136e+00,  1.34374865e+00,\n",
       "         1.28865182e+00,  1.17694467e+00,  1.02822352e+00,\n",
       "         8.54794334e-01,  6.79649507e-01,  5.13577325e-01,\n",
       "         3.71500202e-01,  2.53824499e-01],\n",
       "       [ 1.00827940e-03,  6.10045741e-02,  1.04761817e-01,\n",
       "         1.73234719e-01,  2.67205400e-01,  4.17425329e-01,\n",
       "         5.83406325e-01,  7.66876758e-01,  9.56151779e-01,\n",
       "         1.12523802e+00,  1.25825417e+00,  1.33305556e+00,\n",
       "         1.34447473e+00,  1.28795779e+00,  1.17684110e+00,\n",
       "         1.02702038e+00,  8.52736767e-01,  6.78686388e-01,\n",
       "         5.13948630e-01,  3.70179529e-01],\n",
       "       [ 7.51073808e-04, -1.91695041e-03,  5.94947562e-02,\n",
       "         1.04850733e-01,  1.73244095e-01,  2.66864760e-01,\n",
       "         4.18539867e-01,  5.84603890e-01,  7.68864610e-01,\n",
       "         9.55248478e-01,  1.12528792e+00,  1.25871324e+00,\n",
       "         1.33389897e+00,  1.34403291e+00,  1.28921332e+00,\n",
       "         1.17838429e+00,  1.02699679e+00,  8.54176410e-01,\n",
       "         6.79432613e-01,  5.13283512e-01],\n",
       "       [ 8.98375029e-04, -7.29260715e-04,  3.32105469e-04,\n",
       "         5.98058722e-02,  1.06255591e-01,  1.74568450e-01,\n",
       "         2.67566063e-01,  4.17400797e-01,  5.83207227e-01,\n",
       "         7.68271152e-01,  9.55613419e-01,  1.12427210e+00,\n",
       "         1.25940737e+00,  1.33386619e+00,  1.34422324e+00,\n",
       "         1.28771192e+00,  1.17756163e+00,  1.02826914e+00,\n",
       "         8.53765199e-01,  6.79083808e-01],\n",
       "       [ 5.19666240e-04,  7.77295276e-04, -1.24756960e-03,\n",
       "        -2.54601556e-04,  5.98122297e-02,  1.05068342e-01,\n",
       "         1.72218681e-01,  2.66786297e-01,  4.18362245e-01,\n",
       "         5.82723382e-01,  7.68732759e-01,  9.56485282e-01,\n",
       "         1.12584477e+00,  1.26008208e+00,  1.33300303e+00,\n",
       "         1.34477632e+00,  1.28984700e+00,  1.17791113e+00,\n",
       "         1.02850112e+00,  8.54539776e-01]])"
      ]
     },
     "execution_count": 32,
     "metadata": {},
     "output_type": "execute_result"
    }
   ],
   "source": [
    "array"
   ]
  }
 ],
 "metadata": {
  "kernelspec": {
   "display_name": "Python 3 (ipykernel)",
   "language": "python",
   "name": "python3"
  },
  "language_info": {
   "codemirror_mode": {
    "name": "ipython",
    "version": 3
   },
   "file_extension": ".py",
   "mimetype": "text/x-python",
   "name": "python",
   "nbconvert_exporter": "python",
   "pygments_lexer": "ipython3",
   "version": "3.9.10"
  }
 },
 "nbformat": 4,
 "nbformat_minor": 5
}
