{
 "cells": [
  {
   "cell_type": "code",
   "execution_count": 1,
   "id": "68abea90-6896-45fa-afcc-64f932f79faf",
   "metadata": {},
   "outputs": [],
   "source": [
    "import pandas as pd"
   ]
  },
  {
   "cell_type": "code",
   "execution_count": 4,
   "id": "96c2b8ec-7099-4412-a213-41417625b84f",
   "metadata": {},
   "outputs": [],
   "source": [
    "dfb = pd.read_csv('/home/jovyan/work/Desktop/bio-output')  "
   ]
  },
  {
   "cell_type": "code",
   "execution_count": 5,
   "id": "5e815704-22ef-4cfa-b8f0-0216d1ff2d72",
   "metadata": {},
   "outputs": [
    {
     "data": {
      "text/plain": [
       "Index(['EXPERIMENT_ID', 'COMPOUND_ID', 'BATCH_ID', 'PROJECT', 'CRO', 'DESCR',\n",
       "       'ASSAY_TYPE', 'ASSAY_INTENT', 'ANALYSIS_NAME', 'IC50', 'PIC50',\n",
       "       'IC50_NM', 'MODIFIER', 'VALIDATED', 'MINIMUM', 'MAXIMUM', 'SLOPE', 'R2',\n",
       "       'ERR', 'IC50_MIN_CONFIDENCE', 'IC50_MAX_CONFIDENCE',\n",
       "       'PIC50_MIN_CONFIDENCE', 'PIC50_MAX_CONFIDENCE', 'GRAPH', 'TARGET',\n",
       "       'VARIANT', 'TARGET_VARIANT', 'COFACTOR_1', 'COFACTOR_2', 'COFACTORS',\n",
       "       'TARGET_COFACTORS', 'THIOL_FREE', 'ATP_CONC_UM',\n",
       "       'SUBSTRATE_INCUBATION_MIN', 'CREATED_DATE', 'SCIENTIST'],\n",
       "      dtype='object')"
      ]
     },
     "execution_count": 5,
     "metadata": {},
     "output_type": "execute_result"
    }
   ],
   "source": [
    "dfb.columns"
   ]
  },
  {
   "cell_type": "code",
   "execution_count": 6,
   "id": "12252f25-8aae-4ed8-b282-1aa44b29754d",
   "metadata": {},
   "outputs": [],
   "source": [
    "dfbs = pd.read_csv('/home/jovyan/work/Desktop/bio-output-su')  "
   ]
  },
  {
   "cell_type": "code",
   "execution_count": 7,
   "id": "b48ddf3b-b39c-4b4a-9224-8661c56a9ba1",
   "metadata": {},
   "outputs": [
    {
     "data": {
      "text/plain": [
       "Index(['PID', 'EXPERIMENT_ID', 'COMPOUND_ID', 'BATCH_ID', 'PROJECT', 'CRO',\n",
       "       'DESCR', 'ASSAY_TYPE', 'ASSAY_INTENT', 'ANALYSIS_NAME', 'IC50', 'PIC50',\n",
       "       'IC50_NM', 'MODIFIER', 'VALIDATED', 'MINIMUM', 'MAXIMUM', 'SLOPE', 'R2',\n",
       "       'ERR', 'IC50_MIN_CONFIDENCE', 'IC50_MAX_CONFIDENCE',\n",
       "       'PIC50_MIN_CONFIDENCE', 'PIC50_MAX_CONFIDENCE', 'GRAPH', 'TARGET',\n",
       "       'VARIANT', 'TARGET_VARIANT', 'COFACTOR_1', 'COFACTOR_2', 'COFACTORS',\n",
       "       'TARGET_COFACTORS', 'THIOL_FREE', 'ATP_CONC_UM',\n",
       "       'SUBSTRATE_INCUBATION_MIN', 'CREATED_DATE', 'SCIENTIST'],\n",
       "      dtype='object')"
      ]
     },
     "execution_count": 7,
     "metadata": {},
     "output_type": "execute_result"
    }
   ],
   "source": [
    "dfbs.columns"
   ]
  },
  {
   "cell_type": "code",
   "execution_count": 14,
   "id": "3a6bd9c0-f3bc-410d-a150-3398ac43046b",
   "metadata": {},
   "outputs": [
    {
     "data": {
      "text/plain": [
       "{'PID'}"
      ]
     },
     "execution_count": 14,
     "metadata": {},
     "output_type": "execute_result"
    }
   ],
   "source": [
    "set(dfbs.columns) - set(dfb.columns)"
   ]
  },
  {
   "cell_type": "code",
   "execution_count": 10,
   "id": "bef5122a-6350-4bff-ad4f-936a3fc19811",
   "metadata": {},
   "outputs": [
    {
     "data": {
      "text/plain": [
       "37"
      ]
     },
     "execution_count": 10,
     "metadata": {},
     "output_type": "execute_result"
    }
   ],
   "source": [
    "len(dfbs.columns)"
   ]
  },
  {
   "cell_type": "code",
   "execution_count": 11,
   "id": "b9d91ba4-cd6d-4b73-9738-e3e2e24738ae",
   "metadata": {},
   "outputs": [
    {
     "data": {
      "text/plain": [
       "36"
      ]
     },
     "execution_count": 11,
     "metadata": {},
     "output_type": "execute_result"
    }
   ],
   "source": [
    "len(dfb.columns)"
   ]
  },
  {
   "cell_type": "code",
   "execution_count": null,
   "id": "f18a50da-4a81-4846-a9eb-a9bc799352db",
   "metadata": {},
   "outputs": [],
   "source": []
  }
 ],
 "metadata": {
  "kernelspec": {
   "display_name": "Python 3 (ipykernel)",
   "language": "python",
   "name": "python3"
  },
  "language_info": {
   "codemirror_mode": {
    "name": "ipython",
    "version": 3
   },
   "file_extension": ".py",
   "mimetype": "text/x-python",
   "name": "python",
   "nbconvert_exporter": "python",
   "pygments_lexer": "ipython3",
   "version": "3.9.10"
  }
 },
 "nbformat": 4,
 "nbformat_minor": 5
}
